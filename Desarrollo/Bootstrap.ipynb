{
 "cells": [
  {
   "cell_type": "markdown",
   "metadata": {},
   "source": [
    "# Bootstrap Aplicado a datos\n",
    "\n",
    "- Autor: Francine Palacios\n",
    "- Ramo: Topicos Avanzados\n",
    "- Profesor: Ronny Vallejos\n",
    "- Descripcion: Este cuaderno Jupyter está dedicado al análisis exhaustivo de los parámetros obtenidos de un modelo de **regresión**. Se emplea el método de remuestreo Bootstrap para estimar la precisión y la confiabilidad de los parámetros estimados. El conjunto de datos utilizado proviene de registros de admisión a programas de posgrado, el cual está disponible para el público por la plataforma [kaggle](https://www.kaggle.com/) "
   ]
  },
  {
   "cell_type": "markdown",
   "metadata": {},
   "source": [
    "## Paquetes usados"
   ]
  },
  {
   "cell_type": "code",
   "execution_count": 18,
   "metadata": {},
   "outputs": [],
   "source": [
    "import numpy as np \n",
    "import pandas as pd \n",
    "from scipy.stats import bootstrap\n",
    "import seaborn as sns\n",
    "import matplotlib.pyplot as plt "
   ]
  },
  {
   "cell_type": "markdown",
   "metadata": {},
   "source": [
    "## Datos para ejemplo simple"
   ]
  },
  {
   "cell_type": "markdown",
   "metadata": {},
   "source": [
    "Utilizaremos como inicio para un ejemplo simple, los datos desde una normal."
   ]
  },
  {
   "cell_type": "code",
   "execution_count": null,
   "metadata": {},
   "outputs": [],
   "source": [
    "rng = np.random.default_rng()\n",
    "from scipy.stats import norm\n",
    "dist = norm(loc=2, scale=4)  # Nuestra distribucion desconocida\n",
    "data = dist.rvs(size=100, random_state=rng)"
   ]
  },
  {
   "cell_type": "markdown",
   "metadata": {},
   "source": [
    "## Ejemplo concreto de utilizacion de funciones"
   ]
  },
  {
   "cell_type": "markdown",
   "metadata": {},
   "source": [
    "Para este ejemplo concreto/simple, nuestra estadisitca objetivo sera la desviacion estandar muestral sesgada."
   ]
  },
  {
   "cell_type": "markdown",
   "metadata": {},
   "source": [
    "### Configuraciones y observaciones iniciales"
   ]
  },
  {
   "cell_type": "code",
   "execution_count": 4,
   "metadata": {},
   "outputs": [
    {
     "name": "stdout",
     "output_type": "stream",
     "text": [
      "4.0\n"
     ]
    }
   ],
   "source": [
    "std_true = dist.std()      # Valor verdadero de la estadistica\n",
    "print(std_true)"
   ]
  },
  {
   "cell_type": "code",
   "execution_count": 5,
   "metadata": {},
   "outputs": [
    {
     "name": "stdout",
     "output_type": "stream",
     "text": [
      "3.537345685586647\n"
     ]
    }
   ],
   "source": [
    "std_sample = np.std(data)  # La estadistica del muestreo de datos\n",
    "print(std_sample)"
   ]
  },
  {
   "cell_type": "code",
   "execution_count": 8,
   "metadata": {},
   "outputs": [],
   "source": [
    "data_1 = (data,)  # El muestreo debe ser una secuencia\n"
   ]
  },
  {
   "cell_type": "code",
   "execution_count": 20,
   "metadata": {},
   "outputs": [
    {
     "data": {
      "text/plain": [
       "(array([ 2.66158388,  3.60839037, -5.79759319, -1.42828919,  3.12356766,\n",
       "         1.99157819,  0.11861192,  0.96349433,  2.44395684,  4.62512567,\n",
       "         1.2755367 ,  3.81865219,  6.81767521, -2.87112871, -1.08227478,\n",
       "         1.93974131,  5.78971283,  2.28672153,  2.93203781,  3.32836406,\n",
       "        -1.68439149,  2.28025665, -3.84645257,  1.30015618,  4.84662668,\n",
       "         1.74893548,  0.31134289, -0.97188666, -1.30653192,  2.33089568,\n",
       "        -9.52336921,  2.3793622 ,  7.30467515,  2.77705453, 11.77506814,\n",
       "         4.09221467,  8.57315171,  1.87010314,  4.76448081, -0.34757938,\n",
       "        -0.95117584,  1.25883097, -3.63834547, -2.69811741,  0.38635241,\n",
       "        -2.2872142 ,  4.65705329,  1.81296026,  1.05958289, -0.36769427,\n",
       "         3.65319323,  2.26266581, -1.43954743, -0.79073778,  1.38493624,\n",
       "         2.07473377, -1.16223915,  0.19559999,  4.25908587,  2.66079818,\n",
       "         2.04750236,  1.06379573,  4.28400907,  2.95889827,  1.81959525,\n",
       "         4.5758922 ,  5.28716992, -1.71678699, -0.23107121,  4.19929836,\n",
       "        -4.05801844,  3.35516996, -1.30272915, -2.08837884, -1.27251936,\n",
       "         3.879149  ,  4.58524329,  4.77255121,  5.35049173,  5.45937938,\n",
       "         6.09142663,  1.64977637,  5.13860165, -0.64251146, -4.02064061,\n",
       "        -3.79928484,  5.75438105, 12.92809928,  1.83503504,  7.20097156,\n",
       "        -2.23170701,  7.4531899 ,  1.51084618,  0.46811873,  2.56900404,\n",
       "        -2.97124583, -1.52297643,  2.20468821,  7.65999927,  3.53954298]),)"
      ]
     },
     "execution_count": 20,
     "metadata": {},
     "output_type": "execute_result"
    }
   ],
   "source": [
    "data_1"
   ]
  },
  {
   "cell_type": "markdown",
   "metadata": {},
   "source": [
    "### Utilizacion de Bootstrap "
   ]
  },
  {
   "cell_type": "code",
   "execution_count": 10,
   "metadata": {},
   "outputs": [],
   "source": [
    "res = bootstrap(data_1, np.std, confidence_level=0.9,\n",
    "                random_state=rng)"
   ]
  },
  {
   "cell_type": "code",
   "execution_count": 22,
   "metadata": {},
   "outputs": [
    {
     "data": {
      "text/plain": [
       "array([2.86783372, 3.83475884, 3.21870015, ..., 3.39241779, 3.7876024 ,\n",
       "       3.36990535])"
      ]
     },
     "execution_count": 22,
     "metadata": {},
     "output_type": "execute_result"
    }
   ],
   "source": [
    "res.bootstrap_distribution\n"
   ]
  },
  {
   "cell_type": "code",
   "execution_count": 23,
   "metadata": {},
   "outputs": [
    {
     "data": {
      "text/plain": [
       "3.5094942519008816"
      ]
     },
     "execution_count": 23,
     "metadata": {},
     "output_type": "execute_result"
    }
   ],
   "source": [
    "res.bootstrap_distribution.mean()"
   ]
  },
  {
   "cell_type": "code",
   "execution_count": 24,
   "metadata": {},
   "outputs": [
    {
     "data": {
      "text/plain": [
       "0.3054690295827294"
      ]
     },
     "execution_count": 24,
     "metadata": {},
     "output_type": "execute_result"
    }
   ],
   "source": [
    "res.standard_error   #Que es equivalente a res.boostrap_distribution.std()"
   ]
  },
  {
   "cell_type": "code",
   "execution_count": 19,
   "metadata": {},
   "outputs": [
    {
     "data": {
      "text/plain": [
       "[]"
      ]
     },
     "execution_count": 19,
     "metadata": {},
     "output_type": "execute_result"
    },
    {
     "data": {
      "image/png": "[encoded data removed]",
      "text/plain": [
       "<Figure size 640x480 with 1 Axes>"
      ]
     },
     "metadata": {},
     "output_type": "display_data"
    }
   ],
   "source": [
    "sns.histplot(res.bootstrap_distribution)\n",
    "plt.plot()"
   ]
  },
  {
   "cell_type": "markdown",
   "metadata": {},
   "source": [
    "Como veremos a continuacion, esta distribucion se asemeja mucho a una normal."
   ]
  },
  {
   "cell_type": "code",
   "execution_count": 223,
   "metadata": {},
   "outputs": [
    {
     "name": "stderr",
     "output_type": "stream",
     "text": [
      "ERROR: Could not find a version that satisfies the requirement statsmodels.pip (from versions: none)\n",
      "ERROR: No matching distribution found for statsmodels.pip\n"
     ]
    },
    {
     "name": "stdout",
     "output_type": "stream",
     "text": [
      "Collecting statsmodels\n",
      "  Downloading statsmodels-0.14.2-cp311-cp311-win_amd64.whl.metadata (9.5 kB)\n",
      "Requirement already satisfied: numpy>=1.22.3 in c:\\users\\francine palacios\\appdata\\local\\programs\\python\\python311\\lib\\site-packages (from statsmodels) (1.26.0)\n",
      "Requirement already satisfied: scipy!=1.9.2,>=1.8 in c:\\users\\francine palacios\\appdata\\local\\programs\\python\\python311\\lib\\site-packages (from statsmodels) (1.11.3)\n",
      "Requirement already satisfied: pandas!=2.1.0,>=1.4 in c:\\users\\francine palacios\\appdata\\local\\programs\\python\\python311\\lib\\site-packages (from statsmodels) (2.1.1)\n",
      "Collecting patsy>=0.5.6 (from statsmodels)\n",
      "  Downloading patsy-0.5.6-py2.py3-none-any.whl.metadata (3.5 kB)\n",
      "Requirement already satisfied: packaging>=21.3 in c:\\users\\francine palacios\\appdata\\roaming\\python\\python311\\site-packages (from statsmodels) (23.1)\n",
      "Requirement already satisfied: python-dateutil>=2.8.2 in c:\\users\\francine palacios\\appdata\\roaming\\python\\python311\\site-packages (from pandas!=2.1.0,>=1.4->statsmodels) (2.8.2)\n",
      "Requirement already satisfied: pytz>=2020.1 in c:\\users\\francine palacios\\appdata\\local\\programs\\python\\python311\\lib\\site-packages (from pandas!=2.1.0,>=1.4->statsmodels) (2023.3.post1)\n",
      "Requirement already satisfied: tzdata>=2022.1 in c:\\users\\francine palacios\\appdata\\local\\programs\\python\\python311\\lib\\site-packages (from pandas!=2.1.0,>=1.4->statsmodels) (2023.3)\n",
      "Requirement already satisfied: six in c:\\users\\francine palacios\\appdata\\roaming\\python\\python311\\site-packages (from patsy>=0.5.6->statsmodels) (1.16.0)\n",
      "Downloading statsmodels-0.14.2-cp311-cp311-win_amd64.whl (9.9 MB)\n",
      "   ---------------------------------------- 0.0/9.9 MB ? eta -:--:--\n",
      "   ---------------------------------------- 0.0/9.9 MB 960.0 kB/s eta 0:00:11\n",
      "   - -------------------------------------- 0.4/9.9 MB 5.3 MB/s eta 0:00:02\n",
      "   --- ------------------------------------ 0.9/9.9 MB 7.0 MB/s eta 0:00:02\n",
      "   ----- ---------------------------------- 1.4/9.9 MB 8.2 MB/s eta 0:00:02\n",
      "   ------- -------------------------------- 1.8/9.9 MB 8.4 MB/s eta 0:00:01\n",
      "   ---------- ----------------------------- 2.5/9.9 MB 9.2 MB/s eta 0:00:01\n",
      "   ------------ --------------------------- 3.0/9.9 MB 9.5 MB/s eta 0:00:01\n",
      "   ------------- -------------------------- 3.4/9.9 MB 9.4 MB/s eta 0:00:01\n",
      "   --------------- ------------------------ 3.9/9.9 MB 9.6 MB/s eta 0:00:01\n",
      "   ------------------ --------------------- 4.5/9.9 MB 9.9 MB/s eta 0:00:01\n",
      "   -------------------- ------------------- 5.0/9.9 MB 10.1 MB/s eta 0:00:01\n",
      "   ---------------------- ----------------- 5.6/9.9 MB 10.2 MB/s eta 0:00:01\n",
      "   ------------------------ --------------- 6.1/9.9 MB 10.3 MB/s eta 0:00:01\n",
      "   -------------------------- ------------- 6.6/9.9 MB 10.5 MB/s eta 0:00:01\n",
      "   ----------------------------- ---------- 7.2/9.9 MB 10.4 MB/s eta 0:00:01\n",
      "   ------------------------------- -------- 7.7/9.9 MB 10.5 MB/s eta 0:00:01\n",
      "   --------------------------------- ------ 8.3/9.9 MB 10.5 MB/s eta 0:00:01\n",
      "   ----------------------------------- ---- 8.8/9.9 MB 10.6 MB/s eta 0:00:01\n",
      "   ------------------------------------- -- 9.3/9.9 MB 10.7 MB/s eta 0:00:01\n",
      "   ---------------------------------------  9.9/9.9 MB 10.8 MB/s eta 0:00:01\n",
      "   ---------------------------------------- 9.9/9.9 MB 10.3 MB/s eta 0:00:00\n",
      "Downloading patsy-0.5.6-py2.py3-none-any.whl (233 kB)\n",
      "   ---------------------------------------- 0.0/233.9 kB ? eta -:--:--\n",
      "   --------------------------------------- 233.9/233.9 kB 14.0 MB/s eta 0:00:00\n",
      "Installing collected packages: patsy, statsmodels\n",
      "Successfully installed patsy-0.5.6 statsmodels-0.14.2\n"
     ]
    }
   ],
   "source": [
    "! pip install statsmodels.pip"
   ]
  },
  {
   "cell_type": "code",
   "execution_count": 219,
   "metadata": {},
   "outputs": [
    {
     "data": {
      "image/png": "[encoded data removed]",
      "text/plain": [
       "<Figure size 640x480 with 1 Axes>"
      ]
     },
     "metadata": {},
     "output_type": "display_data"
    }
   ],
   "source": [
    "sns.histplot(res.bootstrap_distribution, stat='density')\n",
    "x=np.linspace(2,5,100)\n",
    "pdf= norm.pdf(x, loc=std_sample, scale=res.standard_error)\n",
    "plt.plot(x,pdf, label=rf\"Aproximacion Normal $\\theta_2$, {x[0]}\", c=\"r\")\n",
    "plt.legend()\n",
    "plt.show()\n",
    "\n"
   ]
  },
  {
   "cell_type": "markdown",
   "metadata": {},
   "source": [
    "Por lo que es intuitivo construir un intervalo de confianza basado en la normal anterior. A continuacion se entrega un intervalo basado en normalidad con el 90% de confianza"
   ]
  },
  {
   "cell_type": "code",
   "execution_count": 48,
   "metadata": {},
   "outputs": [
    {
     "data": {
      "text/plain": [
       "(3.034893844356148, 4.039797526817146)"
      ]
     },
     "execution_count": 48,
     "metadata": {},
     "output_type": "execute_result"
    }
   ],
   "source": [
    "norm.interval(0.9, loc=std_sample, scale=res.standard_error)"
   ]
  },
  {
   "cell_type": "markdown",
   "metadata": {},
   "source": [
    "Debido al teorema del límite central, esta aproximación normal es precisa para una variedad de estadísticas y distribuciones subyacentes a las muestras; sin embargo, la aproximación no es confiable en todos los casos. Debido a que el bootstrap está diseñado para trabajar con distribuciones y estadísticas subyacentes arbitrarias, utiliza técnicas más avanzadas para generar un intervalo de confianza preciso."
   ]
  },
  {
   "cell_type": "code",
   "execution_count": 49,
   "metadata": {},
   "outputs": [
    {
     "data": {
      "text/plain": [
       "ConfidenceInterval(low=3.1123580949521323, high=4.1480728465227825)"
      ]
     },
     "execution_count": 49,
     "metadata": {},
     "output_type": "execute_result"
    }
   ],
   "source": [
    "res.confidence_interval\n"
   ]
  },
  {
   "cell_type": "markdown",
   "metadata": {},
   "source": [
    "Si tomamos muestras de la distribución original 1000 veces y formamos un intervalo de confianza bootstrap para cada muestra, el intervalo de confianza contiene el valor verdadero de la estadística aproximadamente el 90% de las veces."
   ]
  },
  {
   "cell_type": "code",
   "execution_count": 53,
   "metadata": {},
   "outputs": [],
   "source": [
    "n_trials = 1000\n",
    "ci_contains_true_std = 0\n",
    "for i in range(n_trials):\n",
    "   data = (dist.rvs(size=100, random_state=rng),)\n",
    "   ci = bootstrap(data, np.std, confidence_level=0.9, n_resamples=1000,\n",
    "                  random_state=rng).confidence_interval\n",
    "   if ci[0] < std_true < ci[1]:\n",
    "       ci_contains_true_std += 1"
   ]
  },
  {
   "cell_type": "code",
   "execution_count": 52,
   "metadata": {},
   "outputs": [
    {
     "data": {
      "text/plain": [
       "884"
      ]
     },
     "execution_count": 52,
     "metadata": {},
     "output_type": "execute_result"
    }
   ],
   "source": [
    "ci_contains_true_std"
   ]
  },
  {
   "cell_type": "markdown",
   "metadata": {},
   "source": [
    "En lugar de escribir un bucle, también podemos determinar los intervalos de confianza para las 1000 muestras de una sola vez."
   ]
  },
  {
   "cell_type": "code",
   "execution_count": 54,
   "metadata": {},
   "outputs": [],
   "source": [
    "data = (dist.rvs(size=(n_trials, 100), random_state=rng),)\n",
    "res = bootstrap(data, np.std, axis=-1, confidence_level=0.9,\n",
    "                n_resamples=1000, random_state=rng)\n",
    "ci_l, ci_u = res.confidence_interval"
   ]
  },
  {
   "cell_type": "markdown",
   "metadata": {},
   "source": [
    "Aquí, ci_l y ci_u contienen el intervalo de confianza para cada una de las n_trials = 1000 muestras. Y de nuevo, aproximadamente el 90% contiene el valor verdadero, std_true = 4.\n"
   ]
  },
  {
   "cell_type": "code",
   "execution_count": 55,
   "metadata": {},
   "outputs": [
    {
     "data": {
      "text/plain": [
       "903"
      ]
     },
     "execution_count": 55,
     "metadata": {},
     "output_type": "execute_result"
    }
   ],
   "source": [
    "np.sum((ci_l < std_true) & (std_true < ci_u))"
   ]
  },
  {
   "cell_type": "markdown",
   "metadata": {},
   "source": [
    "El método bootstrap también puede utilizarse para estimar intervalos de confianza de estadísticas de múltiples muestras, incluyendo aquellas calculadas por pruebas de hipótesis. scipy.stats.mood realiza la prueba de Mood para parámetros de escala iguales y devuelve dos resultados: una estadística y un valor p. \n",
    "\n",
    "Mas especificamente, la función scipy.stats.mood es una prueba estadística no paramétrica que se utiliza para probar la hipótesis nula de que dos muestras provienen de distribuciones con el mismo parámetro de escala. Esta funcion tiene como retorno:\n",
    "\n",
    "- statistic: El z-score de la prueba de hipótesis.\n",
    "- pvalue: El valor p de la prueba de hipótesis.\n",
    "\n",
    "Para obtener un intervalo de confianza para la estadística de prueba, primero envolvemos scipy.stats.mood en una función que acepta dos argumentos de muestra, acepta un argumento de palabra clave axis y devuelve solo la estadística."
   ]
  },
  {
   "cell_type": "code",
   "execution_count": 57,
   "metadata": {},
   "outputs": [],
   "source": [
    "from scipy.stats import mood\n",
    "def my_statistic(sample1, sample2, axis):\n",
    "    statistic, _ = mood(sample1, sample2, axis=-1)\n",
    "    return statistic"
   ]
  },
  {
   "cell_type": "markdown",
   "metadata": {},
   "source": [
    "Aquí, utilizamos el método de ‘percentil’ con el nivel de confianza predeterminado del 95%.\n"
   ]
  },
  {
   "cell_type": "code",
   "execution_count": 58,
   "metadata": {},
   "outputs": [],
   "source": [
    "sample1 = norm.rvs(scale=1, size=100, random_state=rng)\n",
    "sample2 = norm.rvs(scale=2, size=100, random_state=rng)\n",
    "data = (sample1, sample2)\n",
    "res = bootstrap(data, my_statistic, method='basic', random_state=rng)"
   ]
  },
  {
   "cell_type": "code",
   "execution_count": 59,
   "metadata": {},
   "outputs": [
    {
     "data": {
      "text/plain": [
       "-4.9067275951586815"
      ]
     },
     "execution_count": 59,
     "metadata": {},
     "output_type": "execute_result"
    }
   ],
   "source": [
    "mood(sample1, sample2)[0]  # El elemento 0 es la estadistica"
   ]
  },
  {
   "cell_type": "code",
   "execution_count": 60,
   "metadata": {},
   "outputs": [
    {
     "data": {
      "text/plain": [
       "ConfidenceInterval(low=-6.7454581060011165, high=-3.2948938316982446)"
      ]
     },
     "execution_count": 60,
     "metadata": {},
     "output_type": "execute_result"
    }
   ],
   "source": [
    "res.confidence_interval"
   ]
  },
  {
   "cell_type": "markdown",
   "metadata": {},
   "source": [
    "Ademas la estimacion de bootstrap de la desviacion estandar "
   ]
  },
  {
   "cell_type": "code",
   "execution_count": 61,
   "metadata": {},
   "outputs": [
    {
     "data": {
      "text/plain": [
       "0.8783545965421594"
      ]
     },
     "execution_count": 61,
     "metadata": {},
     "output_type": "execute_result"
    }
   ],
   "source": [
    "res.standard_error"
   ]
  },
  {
   "cell_type": "markdown",
   "metadata": {},
   "source": [
    "Las estadísticas de muestras apareadas también funcionan. Por ejemplo, considera el coeficiente de correlación de Pearson."
   ]
  },
  {
   "cell_type": "code",
   "execution_count": 63,
   "metadata": {},
   "outputs": [],
   "source": [
    "from scipy.stats import pearsonr\n",
    "n = 100\n",
    "x = np.linspace(0, 10, n)\n",
    "y = x + rng.uniform(size=n)"
   ]
  },
  {
   "cell_type": "code",
   "execution_count": 66,
   "metadata": {},
   "outputs": [
    {
     "data": {
      "text/plain": [
       "0.9957654214902854"
      ]
     },
     "execution_count": 66,
     "metadata": {},
     "output_type": "execute_result"
    }
   ],
   "source": [
    "pearsonr(x, y)[0]  # element 0 is the statistic\n"
   ]
  },
  {
   "cell_type": "markdown",
   "metadata": {},
   "source": [
    "Ajustamos pearsonr para que devuelva solo la estadística."
   ]
  },
  {
   "cell_type": "code",
   "execution_count": 67,
   "metadata": {},
   "outputs": [],
   "source": [
    "def my_statistic(x, y):\n",
    "    return pearsonr(x, y)[0]"
   ]
  },
  {
   "cell_type": "markdown",
   "metadata": {},
   "source": [
    "Llamamos a bootstrap utilizando paired=True. Además, dado que my_statistic no está vectorizada para calcular la estadística a lo largo de un eje dado, pasamos vectorized=False."
   ]
  },
  {
   "cell_type": "markdown",
   "metadata": {},
   "source": [
    "Las muestras apareadas se refieren a situaciones en las que los datos vienen en pares que están de alguna manera relacionados o emparejados. Esto suele ocurrir cuando se mide la misma muestra bajo dos condiciones diferentes o en dos momentos diferentes. Por ejemplo, si mides el peso de un grupo de personas antes y después de un programa de dieta, cada medida antes y después para una persona forma un par de datos123.\n",
    "\n",
    "El uso de paired=True en la función bootstrap indica que los datos en las muestras x e y están emparejados de esta manera y que cualquier inferencia estadística debe tener en cuenta este emparejamiento. Esto es importante porque el análisis estadístico de muestras apareadas difiere del análisis de muestras independientes, ya que las muestras apareadas suelen estar correlacionadas.\n",
    "\n",
    "En cuanto al término vectorizado, en el contexto de la programación y el análisis de datos, una función vectorizada es aquella que está diseñada para operar sobre arrays o vectores de datos de manera eficiente, aplicando la misma operación a cada elemento del vector sin necesidad de escribir un bucle explícito. Por ejemplo, muchas funciones en bibliotecas como NumPy o pandas están vectorizadas y pueden procesar rápidamente grandes conjuntos de datos45.\n",
    "\n",
    "Cuando se dice que una función no está vectorizada, como en el caso de my_statistic, significa que la función no está diseñada para operar automáticamente sobre vectores de datos. En su lugar, procesa un solo par de datos a la vez. Por lo tanto, al pasar vectorized=False, le estás diciendo a la función bootstrap que debe llamar a my_statistic para cada par de datos individualmente, en lugar de intentar pasar todos los datos a la vez."
   ]
  },
  {
   "cell_type": "code",
   "execution_count": 68,
   "metadata": {},
   "outputs": [],
   "source": [
    "res = bootstrap((x, y), my_statistic, vectorized=False, paired=True,\n",
    "                random_state=rng)"
   ]
  },
  {
   "cell_type": "code",
   "execution_count": 69,
   "metadata": {},
   "outputs": [
    {
     "data": {
      "text/plain": [
       "ConfidenceInterval(low=0.9944082510394884, high=0.9967743727341034)"
      ]
     },
     "execution_count": 69,
     "metadata": {},
     "output_type": "execute_result"
    }
   ],
   "source": [
    "res.confidence_interval"
   ]
  },
  {
   "cell_type": "markdown",
   "metadata": {},
   "source": [
    "El objeto resultante (res) se puede volver a pasar al arranque (es decir a bootstrap) para realizar un remuestreo adicional."
   ]
  },
  {
   "cell_type": "markdown",
   "metadata": {},
   "source": [
    "Este concepto se refiere a la posibilidad de tomar un resultado previo de un proceso de bootstrap y usarlo para hacer más remuestreos. En el contexto del codigo mas adelante,  'res' es un objeto que contiene los resultados de un análisis de bootstrap previo. Al pasar este objeto de vuelta a la función bootstrap, podemos agregar más remuestreos a la distribución existente. Por ejemplo, si inicialmente hicimos 9999 remuestreos (n_resamples por defecto) y luego agregamos 1001  más (n_resamples), tendremos un total de 11000 remuestreos en tu distribución de bootstrap."
   ]
  },
  {
   "cell_type": "code",
   "execution_count": 70,
   "metadata": {},
   "outputs": [
    {
     "data": {
      "text/plain": [
       "9999"
      ]
     },
     "execution_count": 70,
     "metadata": {},
     "output_type": "execute_result"
    }
   ],
   "source": [
    "len(res.bootstrap_distribution)"
   ]
  },
  {
   "cell_type": "code",
   "execution_count": 71,
   "metadata": {},
   "outputs": [],
   "source": [
    "res = bootstrap((x, y), my_statistic, vectorized=False, paired=True,\n",
    "                n_resamples=1001, random_state=rng,\n",
    "                bootstrap_result=res)"
   ]
  },
  {
   "cell_type": "code",
   "execution_count": 72,
   "metadata": {},
   "outputs": [
    {
     "data": {
      "text/plain": [
       "11000"
      ]
     },
     "execution_count": 72,
     "metadata": {},
     "output_type": "execute_result"
    }
   ],
   "source": [
    "len(res.bootstrap_distribution)"
   ]
  },
  {
   "cell_type": "markdown",
   "metadata": {},
   "source": [
    "Ademas para un remuestro adicional, podemos utilizarlo para cambiar las opciones del intervalo de confianza"
   ]
  },
  {
   "cell_type": "markdown",
   "metadata": {},
   "source": [
    "Especificamente ek fragmento de código siguiente muestra cómo podemos modificar las opciones del intervalo de confianza para un análisis de bootstrap existente. Aquí, res2 es un nuevo objeto de resultado creado a partir del objeto de resultado original res. Se especifica que no se agreguen remuestreos adicionales (n_resamples=0), pero se cambia el método para calcular el intervalo de confianza a ‘percentile’ y se ajusta el nivel de confianza al 90% (confidence_level=0.9). "
   ]
  },
  {
   "cell_type": "code",
   "execution_count": 73,
   "metadata": {},
   "outputs": [],
   "source": [
    "res2 = bootstrap((x, y), my_statistic, vectorized=False, paired=True,\n",
    "                 n_resamples=0, random_state=rng, bootstrap_result=res,\n",
    "                 method='percentile', confidence_level=0.9)"
   ]
  },
  {
   "cell_type": "markdown",
   "metadata": {},
   "source": [
    "La función np.testing.assert_equal se utiliza para asegurar que la distribución de bootstrap no ha cambiado a pesar de la modificación de las opciones del intervalo de confianza."
   ]
  },
  {
   "cell_type": "code",
   "execution_count": 74,
   "metadata": {},
   "outputs": [],
   "source": [
    "np.testing.assert_equal(res2.bootstrap_distribution,\n",
    "                        res.bootstrap_distribution)"
   ]
  },
  {
   "cell_type": "code",
   "execution_count": 75,
   "metadata": {},
   "outputs": [
    {
     "data": {
      "text/plain": [
       "ConfidenceInterval(low=0.994411761235454, high=0.9967683108361037)"
      ]
     },
     "execution_count": 75,
     "metadata": {},
     "output_type": "execute_result"
    }
   ],
   "source": [
    "res.confidence_interval"
   ]
  },
  {
   "cell_type": "code",
   "execution_count": 76,
   "metadata": {},
   "outputs": [
    {
     "data": {
      "text/plain": [
       "ConfidenceInterval(low=0.9947213762553994, high=0.9966651514732371)"
      ]
     },
     "execution_count": 76,
     "metadata": {},
     "output_type": "execute_result"
    }
   ],
   "source": [
    "res2.confidence_interval"
   ]
  },
  {
   "cell_type": "markdown",
   "metadata": {},
   "source": [
    "Tambien podemos usar multiples estadisticas"
   ]
  },
  {
   "cell_type": "code",
   "execution_count": 116,
   "metadata": {},
   "outputs": [],
   "source": [
    "from scipy.stats import bootstrap, norm\n",
    "\n",
    "media = 40\n",
    "desviacion_estandar = 1\n",
    "\n",
    "muestra_normal = norm.rvs(loc=media, scale=desviacion_estandar, size=1000)\n"
   ]
  },
  {
   "cell_type": "code",
   "execution_count": 117,
   "metadata": {},
   "outputs": [],
   "source": [
    "def estadistica(datos):\n",
    "    return np.mean(datos), np.std(datos)"
   ]
  },
  {
   "cell_type": "code",
   "execution_count": 118,
   "metadata": {},
   "outputs": [],
   "source": [
    "resultado_bootstrap = bootstrap((muestra_normal,), estadistica, n_resamples=10000, method='percentile', confidence_level=0.95)"
   ]
  },
  {
   "cell_type": "code",
   "execution_count": 130,
   "metadata": {},
   "outputs": [],
   "source": [
    "intervalos_confianza = [(resultado_bootstrap.confidence_interval[0][i], resultado_bootstrap.confidence_interval[1][i]) for i in range(len(resultado_bootstrap.confidence_interval[0]))]\n",
    "\n",
    "# Asignamos cada intervalo a su respectiva estadística\n",
    "intervalo_confianza_media, intervalo_confianza_desviacion = intervalos_confianza"
   ]
  },
  {
   "cell_type": "code",
   "execution_count": 123,
   "metadata": {},
   "outputs": [
    {
     "data": {
      "text/plain": [
       "ConfidenceInterval(low=array([39.9553308 ,  0.97979491]), high=array([40.08281364,  1.07265235]))"
      ]
     },
     "execution_count": 123,
     "metadata": {},
     "output_type": "execute_result"
    }
   ],
   "source": [
    "resultado_bootstrap.confidence_interval"
   ]
  },
  {
   "cell_type": "code",
   "execution_count": 129,
   "metadata": {},
   "outputs": [
    {
     "name": "stdout",
     "output_type": "stream",
     "text": [
      "Intervalo de confianza para la media: (39.955330802073924, 40.08281364356553)\n",
      "Distancia para la media: 0.12748284149160583\n",
      "Intervalo de confianza para la desviación estándar: (0.9797949083809354, 1.0726523505838035)\n",
      "Distancia para la desviación estándar: 0.09285744220286807\n"
     ]
    }
   ],
   "source": [
    "print(\"Intervalo de confianza para la media:\", intervalo_confianza_media)\n",
    "print(\"Distancia para la media:\", intervalo_confianza_media[1] - intervalo_confianza_media[0])\n",
    "\n",
    "print(\"Intervalo de confianza para la desviación estándar:\", intervalo_confianza_desviacion)\n",
    "print(\"Distancia para la desviación estándar:\", intervalo_confianza_desviacion[1] - intervalo_confianza_desviacion[0])"
   ]
  },
  {
   "cell_type": "markdown",
   "metadata": {},
   "source": [
    "### Intervalos de Confianza"
   ]
  },
  {
   "cell_type": "markdown",
   "metadata": {},
   "source": [
    "Ahora hablemos de los intervalos de Confianza para la tecnica de Bootstrap"
   ]
  },
  {
   "cell_type": "markdown",
   "metadata": {},
   "source": [
    "#### Resumen de uso "
   ]
  },
  {
   "cell_type": "markdown",
   "metadata": {},
   "source": [
    "En la biblioteca scipy.stats.bootstrap, hay varios métodos para calcular estos intervalos:\n",
    "\n",
    "- Percentil: Este método utiliza los percentiles de la distribución de remuestreo para definir el intervalo de confianza. Por ejemplo, para un intervalo de confianza del 95%, se usarían los percentiles 2.5 y 97.5.\n",
    "- BCa (Bias-Corrected and Accelerated): Este método ajusta el intervalo de confianza para corregir el sesgo y la aceleración en la distribución de remuestreo. Es más complejo que el método del percentil y generalmente proporciona mejores resultados cuando la distribución del estimador no es simétrica.\n",
    "- Básico (Reverse Percentile): Similar al método del percentil, pero invierte los roles de los percentiles. Por ejemplo, si normalmente tomaríamos los percentiles 2.5 y 97.5, aquí tomaríamos los percentiles 97.5 y 2.5 de la distribución de remuestreo."
   ]
  },
  {
   "cell_type": "markdown",
   "metadata": {},
   "source": [
    "Respecto al intervalo normal no esta implementado, pero podemos implementarlo de manera sencilla como se vio anteriormente."
   ]
  },
  {
   "cell_type": "markdown",
   "metadata": {},
   "source": [
    "En general, se tiene las siguientes indicaciones: \n",
    "\n",
    "- Percentil: Este método es simple y directo, y es útil cuando tienes una muestra grande y la distribución del estimador es aproximadamente simétrica. No ajusta por sesgo ni por la forma de la distribución de remuestreo.\n",
    "- BCa (Bias-Corrected and Accelerated): Es preferible cuando la distribución del estimador no es simétrica. También es útil cuando se sospecha que hay sesgo en los estimadores o cuando la distribución tiene colas pesadas. Es un método más robusto que el del percentil.\n",
    "- Básico (Reverse Percentil): Este método puede ser útil cuando el método del percentil no es adecuado debido a la asimetría en la distribución de remuestreo. Es una alternativa al método del percentil que puede ofrecer una mejor cobertura del intervalo de confianza en ciertas situaciones."
   ]
  },
  {
   "cell_type": "markdown",
   "metadata": {},
   "source": [
    "En general, el método BCa suele ser la opción más segura y robusta, especialmente en muestras pequeñas o cuando la distribución del estimador es desconocida o complicada. Sin embargo, requiere más cálculos que el método del percentil. El método básico es menos común pero puede ser útil en casos específicos donde los otros métodos no funcionan bien."
   ]
  },
  {
   "cell_type": "markdown",
   "metadata": {},
   "source": [
    "Especificamente se tiene las siguientes construcciones"
   ]
  },
  {
   "cell_type": "markdown",
   "metadata": {},
   "source": [
    "#### Construccion\n",
    "\n",
    "Se construye un intervalo de confianza bilateral, con nivel de confianza $1-\\alpha$, para un parámetro $\\theta$ de la distribución $F$.\n",
    "Una vez elegido el método bootstrap adecuado, teniendo en cuenta la información disponible en el contexto del que se trate, otro aspecto importante es el método para la construcción del intervalo de confianza bootstrap de forma que la probabilidad de cobertura sea lo más parecida posible al nivel nominal $1-\\alpha$.\n",
    "\n",
    "Para un tratamiento más detallado, incluyendo los órdenes de los errores de cobertura, ver por ejemplo el [Capítulo 4](https://rubenfcasal.github.io/book_remuestreo/icboot.html) de Cao y Fernández-Casal (2021) o el Capítulo 5 de Davison y Hinkley (1997).\n",
    "\n"
   ]
  },
  {
   "cell_type": "markdown",
   "metadata": {},
   "source": [
    "##### Aproximación normal \n",
    "\n",
    "\n",
    "        "
   ]
  },
  {
   "cell_type": "markdown",
   "metadata": {},
   "source": [
    "Este método emplea las aproximaciones bootstrap del sesgo $Sesgo^{\\ast}\\left( \\hat{\\theta}^{\\ast} \\right)$ y de la varianza $Var^{\\ast}\\left( \\hat{\\theta}^{\\ast} \\right)$, y asume que la distribución del correspondiente estadístico studentizado es una normal estándar\n",
    "$$\\frac{\\hat{\\theta} - Sesgo^{\\ast}\\left( \\hat{\\theta}^{\\ast} \\right) - \\theta}{\\sqrt{Var^{\\ast}\\left( \\hat{\\theta}^{\\ast} \\right)}} \\underset{aprox}{\\sim }\\mathcal{N}\\left( 0, 1 \\right).$$\n",
    "De esta forma se obtiene la estimación por intervalo de confianza:\n",
    "$$\\hat{I}_{norm}=\\left( \\hat{\\theta} - Sesgo^{\\ast}\\left( \\hat{\\theta}^{\\ast} \\right) - z_{1-\\alpha /2}\\sqrt{Var^{\\ast}\\left( \\hat{\\theta}^{\\ast} \\right)},\\hat{\\theta} - Sesgo^{\\ast}\\left( \\hat{\\theta}^{\\ast} \\right) + z_{1 - \\alpha /2}\\sqrt{Var^{\\ast}\\left( \\hat{\\theta}^{\\ast} \\right)} \\right).$$\n",
    "\n"
   ]
  },
  {
   "cell_type": "markdown",
   "metadata": {},
   "source": [
    "##### Método percentil directo \n"
   ]
  },
  {
   "cell_type": "markdown",
   "metadata": {},
   "source": [
    "\n",
    "Este método se basa en la construcción del intervalo de confianza, mediante bootstrap, empleando como estadístico el estimador $$R = \\hat{\\theta}.$$\n",
    "\n",
    "Una vez elegido el método de remuestreo, empleando un estimador, $\\hat{F}\\,$, de la\n",
    "distribución poblacional, $F$, la distribución en el muestreo de $R = \\hat{\\theta}$ se aproxima directamente mediante la distribución bootstrap de $R^{\\ast}= \\hat{\\theta}^{\\ast}$.\n",
    "A partir de las réplicas bootstrap del estimador aproximamos los cuantiles $x_{\\alpha /2}$ y $x_{1-\\alpha /2}$ (denotando por $x_{\\beta }$ el valor verificando $P^{\\ast}\\left( R^{\\ast }\\leq x_{\\beta } \\right) =\\beta$), de forma que \n",
    "$$\\begin{aligned}\n",
    "1-\\alpha &= 1-\\frac{\\alpha }{2}-\\frac{\\alpha }{2}\n",
    "= P^{\\ast}\\left( \\hat{\\theta}^{\\ast}<x_{1-\\alpha /2} \\right) - P^{\\ast}\\left( \\hat{\\theta}^{\\ast}\\leq x_{\\alpha /2} \\right) \\\\\n",
    "&= P^{\\ast}\\left( x_{\\alpha /2}<\\hat{\\theta}^{\\ast}<x_{1-\\alpha /2} \\right),\n",
    "\\end{aligned}$$\n",
    "y asumimos que esto aproxima lo que ocurre con la distribución poblacional\n",
    "$$P\\left( x_{\\alpha /2} < \\hat{\\theta} < x_{1-\\alpha /2} \\right) \\approx 1-\\alpha.$$\n",
    "De donde se obtiene el intervalo de confianza bootstrap calculado \n",
    "por el método percentil directo\n",
    "$$\\hat{I}_{perc}=\\left( x_{\\alpha /2}, x_{1-\\alpha /2}  \\right).$$\n",
    "\n",
    "Una ventaja de los intervalos construidos con este método es que son invariantes frente a transformaciones del estimador (en el caso de que fuese más adecuado trabajar en otra escala, no sería necesario conocer la transformación).\n",
    "Sin embargo, la precisión puede verse seriamente afectada en el caso de estimadores sesgados.\n",
    "\n",
    "\n"
   ]
  },
  {
   "cell_type": "markdown",
   "metadata": {},
   "source": [
    "##### Método percentil básico \n"
   ]
  },
  {
   "cell_type": "markdown",
   "metadata": {},
   "source": [
    "\n",
    "En este método se emplea como estadístico el estimador centrado (no estandarizado)\n",
    "$$R = \\hat{\\theta}-\\theta.$$\n",
    "De forma análoga, la distribución en el muestreo de $R$ se aproxima mediante la distribución bootstrap de\n",
    "$$R^{\\ast}= \\hat{\\theta}^{\\ast}-\\theta \\left( \\hat{F} \\right) = \\hat{\\theta}^{\\ast}-\\hat{\\theta}.$$\n",
    "A partir de las réplicas bootstrap del estadístico se aproximan los cuantiles $x_{\\alpha /2}$ y $x_{1-\\alpha /2}$ tales que\n",
    "$$1-\\alpha = P^{\\ast}\\left( x_{\\alpha /2}<R^{\\ast}<x_{1-\\alpha /2} \\right),$$\n",
    "tomándolo como aproximación de lo que ocurre con la distribución poblacional\n",
    "$$\\begin{aligned}\n",
    "1-\\alpha &\\approx P\\left( x_{\\alpha /2}<R<x_{1-\\alpha /2} \\right) \\\\\n",
    "&= P\\left( x_{\\alpha /2} < \\hat{\\theta}-\\theta < x_{1-\\alpha /2} \\right) \\\\\n",
    "&= P\\left( \\hat{\\theta} - x_{1-\\alpha /2} < \\theta <\\hat{\\theta} -x_{\\alpha /2} \\right).\n",
    "\\end{aligned}$$\n",
    "De donde se obtiene el intervalo de confianza bootstrap calculado \n",
    "por el método percentil básico\n",
    "$$\\hat{I}_{basic}=\\left( \\hat{\\theta} - x_{1-\\alpha /2},\\hat{\\theta} - x_{\\alpha /2} \\right).$$\n",
    "\n"
   ]
  },
  {
   "cell_type": "markdown",
   "metadata": {},
   "source": [
    "##### Método BCa \n"
   ]
  },
  {
   "cell_type": "markdown",
   "metadata": {},
   "source": [
    "\n",
    "El método $BCa$ (bias-corrected and accelerated) propuesto por Efron (1987) considera una transformación de forma que la distribución se aproxime a la normalidad, construye el intervalo en esa escala asumiendo normalidad y transforma el resultado a la escala original empleando la distribución bootstrap.\n",
    "El intervalo obtenido es de la forma:\n",
    "$$\\hat{I}_{perc}=\\left( x_{\\alpha /2}, x_{1-\\alpha /2}  \\right),$$\n",
    "donde        \n",
    "$$x_u = \\hat G^{-1}\\left(\\Phi\\left(z + \\frac{z + z_u}{1-a(z+z_u)}\\right)  \\right),$$\n",
    "siendo $\\hat G$ la distribución empírica de $\\hat{\\theta}^{\\ast}$, $\\Phi(z)$ la función de distribución de la normal estándar, $z_u = \\Phi^{-1}(u)$ el correspondiente cuantil y:\n",
    "\n",
    "- $z = \\Phi^{-1}(\\hat G(\\hat\\theta))$ un factor de corrección de sesgo.\n",
    "- $a$ la denominada constante aceleradora (o corrección de asimetría), que suele ser aproximada mediante jackknife.\n",
    "\n",
    "Para más detalles ver Sección 5.3.2 de Davison y Hinkley (1997).\n"
   ]
  },
  {
   "cell_type": "markdown",
   "metadata": {},
   "source": [
    "#### Ejemplo"
   ]
  },
  {
   "cell_type": "markdown",
   "metadata": {},
   "source": [
    "Veamos un ejemplo, donde tomamos una disitribucion normal y la contaminamos"
   ]
  },
  {
   "cell_type": "code",
   "execution_count": 1,
   "metadata": {},
   "outputs": [
    {
     "ename": "NameError",
     "evalue": "name 'np' is not defined",
     "output_type": "error",
     "traceback": [
      "\u001b[1;31m---------------------------------------------------------------------------\u001b[0m",
      "\u001b[1;31mNameError\u001b[0m                                 Traceback (most recent call last)",
      "Cell \u001b[1;32mIn[1], line 10\u001b[0m\n\u001b[0;32m      8\u001b[0m \u001b[38;5;66;03m# Añadimos datos atípicos extremos:\u001b[39;00m\n\u001b[0;32m      9\u001b[0m datos_atipicos \u001b[38;5;241m=\u001b[39m [media \u001b[38;5;241m+\u001b[39m \u001b[38;5;241m40\u001b[39m\u001b[38;5;241m*\u001b[39mdesviacion_estandar]\u001b[38;5;241m*\u001b[39m\u001b[38;5;241m100\u001b[39m  \u001b[38;5;66;03m# 100 datos atípicos\u001b[39;00m\n\u001b[1;32m---> 10\u001b[0m muestra_normal_con_atipicos \u001b[38;5;241m=\u001b[39m \u001b[43mnp\u001b[49m\u001b[38;5;241m.\u001b[39mappend(muestra_normal, datos_atipicos)\n",
      "\u001b[1;31mNameError\u001b[0m: name 'np' is not defined"
     ]
    }
   ],
   "source": [
    "from scipy.stats import bootstrap, norm\n",
    "\n",
    "media = 0\n",
    "desviacion_estandar = 1\n",
    "\n",
    "muestra_normal = norm.rvs(loc=media, scale=desviacion_estandar, size=1000)\n",
    "\n",
    "# Añadimos datos atípicos extremos:\n",
    "datos_atipicos = [media + 40*desviacion_estandar]*100  # 100 datos atípicos\n",
    "muestra_normal_con_atipicos = np.append(muestra_normal, datos_atipicos)\n"
   ]
  },
  {
   "cell_type": "code",
   "execution_count": 96,
   "metadata": {},
   "outputs": [],
   "source": [
    "def media(datos):\n",
    "    return np.mean(datos)"
   ]
  },
  {
   "cell_type": "code",
   "execution_count": 97,
   "metadata": {},
   "outputs": [],
   "source": [
    "\n",
    "resultado_bootstrap = bootstrap((muestra_normal_con_atipicos,), media, n_resamples=10000, method='percentile', confidence_level=0.95)\n",
    "\n",
    "# Reutilizamos el resultado del remuestreo para calcular los intervalos de confianza con diferentes métodos\n",
    "resultado_percentil = bootstrap((muestra_normal_con_atipicos,), media, bootstrap_result=resultado_bootstrap, n_resamples=0, method='percentile')\n",
    "resultado_bca = bootstrap((muestra_normal_con_atipicos,), media, bootstrap_result=resultado_bootstrap, n_resamples=0, method='BCa')\n",
    "resultado_basico = bootstrap((muestra_normal_con_atipicos,), media, bootstrap_result=resultado_bootstrap, n_resamples=0, method='basic')\n"
   ]
  },
  {
   "cell_type": "code",
   "execution_count": 98,
   "metadata": {},
   "outputs": [
    {
     "name": "stdout",
     "output_type": "stream",
     "text": [
      "Intervalo de confianza Percentil: ConfidenceInterval(low=0.15376341460857085, high=0.6551803633882294)\n",
      "Distancia Percentil: 0.5014169487796585\n",
      "Intervalo de confianza BCa: ConfidenceInterval(low=0.17832684399298268, high=0.7023764920828205)\n",
      "Distancia BCa: 0.5240496480898378\n",
      "Intervalo de confianza Básico: ConfidenceInterval(low=0.1195328931034898, high=0.6209498418831483)\n",
      "Distancia Básico: 0.5014169487796585\n"
     ]
    }
   ],
   "source": [
    "\n",
    "print(\"Intervalo de confianza Percentil:\", resultado_percentil.confidence_interval)\n",
    "print(\"Distancia Percentil:\", resultado_percentil.confidence_interval[1] - resultado_percentil.confidence_interval[0])\n",
    "\n",
    "print(\"Intervalo de confianza BCa:\", resultado_bca.confidence_interval)\n",
    "print(\"Distancia BCa:\", resultado_bca.confidence_interval[1] - resultado_bca.confidence_interval[0])\n",
    "\n",
    "print(\"Intervalo de confianza Básico:\", resultado_basico.confidence_interval)\n",
    "print(\"Distancia Básico:\", resultado_basico.confidence_interval[1] - resultado_basico.confidence_interval[0])\n"
   ]
  },
  {
   "cell_type": "markdown",
   "metadata": {},
   "source": [
    "## Implimentacion usando los datos objetivo"
   ]
  },
  {
   "cell_type": "markdown",
   "metadata": {},
   "source": [
    "La introduccion de los datos ya se hizo en Jackknife"
   ]
  },
  {
   "cell_type": "code",
   "execution_count": 132,
   "metadata": {},
   "outputs": [
    {
     "data": {
      "text/html": [
       "<div>\n",
       "<style scoped>\n",
       "    .dataframe tbody tr th:only-of-type {\n",
       "        vertical-align: middle;\n",
       "    }\n",
       "\n",
       "    .dataframe tbody tr th {\n",
       "        vertical-align: top;\n",
       "    }\n",
       "\n",
       "    .dataframe thead th {\n",
       "        text-align: right;\n",
       "    }\n",
       "</style>\n",
       "<table border=\"1\" class=\"dataframe\">\n",
       "  <thead>\n",
       "    <tr style=\"text-align: right;\">\n",
       "      <th></th>\n",
       "      <th>GRE Score</th>\n",
       "      <th>TOEFL Score</th>\n",
       "      <th>University Rating</th>\n",
       "      <th>SOP</th>\n",
       "      <th>LOR</th>\n",
       "      <th>CGPA</th>\n",
       "      <th>Research</th>\n",
       "      <th>Chance of Admit</th>\n",
       "    </tr>\n",
       "  </thead>\n",
       "  <tbody>\n",
       "    <tr>\n",
       "      <th>0</th>\n",
       "      <td>337</td>\n",
       "      <td>118</td>\n",
       "      <td>4</td>\n",
       "      <td>4.5</td>\n",
       "      <td>4.5</td>\n",
       "      <td>9.65</td>\n",
       "      <td>1</td>\n",
       "      <td>0.92</td>\n",
       "    </tr>\n",
       "    <tr>\n",
       "      <th>1</th>\n",
       "      <td>324</td>\n",
       "      <td>107</td>\n",
       "      <td>4</td>\n",
       "      <td>4.0</td>\n",
       "      <td>4.5</td>\n",
       "      <td>8.87</td>\n",
       "      <td>1</td>\n",
       "      <td>0.76</td>\n",
       "    </tr>\n",
       "    <tr>\n",
       "      <th>2</th>\n",
       "      <td>316</td>\n",
       "      <td>104</td>\n",
       "      <td>3</td>\n",
       "      <td>3.0</td>\n",
       "      <td>3.5</td>\n",
       "      <td>8.00</td>\n",
       "      <td>1</td>\n",
       "      <td>0.72</td>\n",
       "    </tr>\n",
       "    <tr>\n",
       "      <th>3</th>\n",
       "      <td>322</td>\n",
       "      <td>110</td>\n",
       "      <td>3</td>\n",
       "      <td>3.5</td>\n",
       "      <td>2.5</td>\n",
       "      <td>8.67</td>\n",
       "      <td>1</td>\n",
       "      <td>0.80</td>\n",
       "    </tr>\n",
       "    <tr>\n",
       "      <th>4</th>\n",
       "      <td>314</td>\n",
       "      <td>103</td>\n",
       "      <td>2</td>\n",
       "      <td>2.0</td>\n",
       "      <td>3.0</td>\n",
       "      <td>8.21</td>\n",
       "      <td>0</td>\n",
       "      <td>0.65</td>\n",
       "    </tr>\n",
       "    <tr>\n",
       "      <th>...</th>\n",
       "      <td>...</td>\n",
       "      <td>...</td>\n",
       "      <td>...</td>\n",
       "      <td>...</td>\n",
       "      <td>...</td>\n",
       "      <td>...</td>\n",
       "      <td>...</td>\n",
       "      <td>...</td>\n",
       "    </tr>\n",
       "    <tr>\n",
       "      <th>495</th>\n",
       "      <td>332</td>\n",
       "      <td>108</td>\n",
       "      <td>5</td>\n",
       "      <td>4.5</td>\n",
       "      <td>4.0</td>\n",
       "      <td>9.02</td>\n",
       "      <td>1</td>\n",
       "      <td>0.87</td>\n",
       "    </tr>\n",
       "    <tr>\n",
       "      <th>496</th>\n",
       "      <td>337</td>\n",
       "      <td>117</td>\n",
       "      <td>5</td>\n",
       "      <td>5.0</td>\n",
       "      <td>5.0</td>\n",
       "      <td>9.87</td>\n",
       "      <td>1</td>\n",
       "      <td>0.96</td>\n",
       "    </tr>\n",
       "    <tr>\n",
       "      <th>497</th>\n",
       "      <td>330</td>\n",
       "      <td>120</td>\n",
       "      <td>5</td>\n",
       "      <td>4.5</td>\n",
       "      <td>5.0</td>\n",
       "      <td>9.56</td>\n",
       "      <td>1</td>\n",
       "      <td>0.93</td>\n",
       "    </tr>\n",
       "    <tr>\n",
       "      <th>498</th>\n",
       "      <td>312</td>\n",
       "      <td>103</td>\n",
       "      <td>4</td>\n",
       "      <td>4.0</td>\n",
       "      <td>5.0</td>\n",
       "      <td>8.43</td>\n",
       "      <td>0</td>\n",
       "      <td>0.73</td>\n",
       "    </tr>\n",
       "    <tr>\n",
       "      <th>499</th>\n",
       "      <td>327</td>\n",
       "      <td>113</td>\n",
       "      <td>4</td>\n",
       "      <td>4.5</td>\n",
       "      <td>4.5</td>\n",
       "      <td>9.04</td>\n",
       "      <td>0</td>\n",
       "      <td>0.84</td>\n",
       "    </tr>\n",
       "  </tbody>\n",
       "</table>\n",
       "<p>500 rows × 8 columns</p>\n",
       "</div>"
      ],
      "text/plain": [
       "     GRE Score  TOEFL Score  University Rating  SOP  LOR   CGPA  Research  \\\n",
       "0          337          118                  4  4.5   4.5  9.65         1   \n",
       "1          324          107                  4  4.0   4.5  8.87         1   \n",
       "2          316          104                  3  3.0   3.5  8.00         1   \n",
       "3          322          110                  3  3.5   2.5  8.67         1   \n",
       "4          314          103                  2  2.0   3.0  8.21         0   \n",
       "..         ...          ...                ...  ...   ...   ...       ...   \n",
       "495        332          108                  5  4.5   4.0  9.02         1   \n",
       "496        337          117                  5  5.0   5.0  9.87         1   \n",
       "497        330          120                  5  4.5   5.0  9.56         1   \n",
       "498        312          103                  4  4.0   5.0  8.43         0   \n",
       "499        327          113                  4  4.5   4.5  9.04         0   \n",
       "\n",
       "     Chance of Admit   \n",
       "0                0.92  \n",
       "1                0.76  \n",
       "2                0.72  \n",
       "3                0.80  \n",
       "4                0.65  \n",
       "..                ...  \n",
       "495              0.87  \n",
       "496              0.96  \n",
       "497              0.93  \n",
       "498              0.73  \n",
       "499              0.84  \n",
       "\n",
       "[500 rows x 8 columns]"
      ]
     },
     "execution_count": 132,
     "metadata": {},
     "output_type": "execute_result"
    }
   ],
   "source": [
    "path=r'C:\\Users\\Francine Palacios\\Desktop\\Topicos Avanzados\\Resampling\\Data\\Admission_Predict_Ver1.1.csv'\n",
    "df_data= pd.read_csv(path)\n",
    "df_data = df_data.drop(columns=['Serial No.'])\n",
    "df_data"
   ]
  },
  {
   "cell_type": "code",
   "execution_count": 163,
   "metadata": {},
   "outputs": [],
   "source": [
    "from sklearn.linear_model import LinearRegression\n",
    "from sklearn.model_selection import train_test_split\n"
   ]
  },
  {
   "cell_type": "code",
   "execution_count": 184,
   "metadata": {},
   "outputs": [
    {
     "data": {
      "text/plain": [
       "Index(['GRE Score', 'TOEFL Score', 'University Rating', 'SOP', 'LOR ', 'CGPA',\n",
       "       'Research', 'Chance of Admit '],\n",
       "      dtype='object')"
      ]
     },
     "execution_count": 184,
     "metadata": {},
     "output_type": "execute_result"
    }
   ],
   "source": [
    "df_data.columns"
   ]
  },
  {
   "cell_type": "code",
   "execution_count": 188,
   "metadata": {},
   "outputs": [],
   "source": [
    "columnas=['GRE Score', 'TOEFL Score', 'University Rating', 'Chance of Admit ']"
   ]
  },
  {
   "cell_type": "code",
   "execution_count": 189,
   "metadata": {},
   "outputs": [],
   "source": [
    "tupla_arrays = tuple(df_data[col].to_numpy() for col in columnas)"
   ]
  },
  {
   "cell_type": "code",
   "execution_count": 198,
   "metadata": {},
   "outputs": [],
   "source": [
    "def estadistica_interes(*args):\n",
    "    # tupla_arrays = (args)\n",
    "    df = pd.DataFrame(args).transpose()\n",
    "    X=df[df.columns[:-1]]\n",
    "    y=df[df.columns[-1]]\n",
    "    # print(y)\n",
    "    X_train, X_test, y_train, y_test = train_test_split(\n",
    "    X, y, test_size=0.2, random_state=42)\n",
    "    \n",
    "    clf = LinearRegression(\n",
    "    fit_intercept=True,    # Incluir el término de sesgo (intercept)\n",
    "    )\n",
    "    clf.fit( X_train,y_train)\n",
    "    return np.append(clf.intercept_,clf.coef_)"
   ]
  },
  {
   "cell_type": "code",
   "execution_count": 208,
   "metadata": {},
   "outputs": [
    {
     "data": {
      "text/plain": [
       "array([-1.92541066,  0.00591126,  0.00653695,  0.02431605])"
      ]
     },
     "execution_count": 208,
     "metadata": {},
     "output_type": "execute_result"
    }
   ],
   "source": [
    "estadistica_interes(*tupla_arrays)\n"
   ]
  },
  {
   "cell_type": "code",
   "execution_count": 199,
   "metadata": {},
   "outputs": [],
   "source": [
    "resultado_boots= bootstrap(tupla_arrays, estadistica_interes, vectorized=False, paired=True,\n",
    "                n_resamples=9999, method='percentile', confidence_level=0.9)"
   ]
  },
  {
   "cell_type": "code",
   "execution_count": 217,
   "metadata": {},
   "outputs": [
    {
     "data": {
      "text/plain": [
       "numpy.ndarray"
      ]
     },
     "execution_count": 217,
     "metadata": {},
     "output_type": "execute_result"
    }
   ],
   "source": [
    "type(resultado_boots.bootstrap_distribution[0])"
   ]
  },
  {
   "cell_type": "code",
   "execution_count": 196,
   "metadata": {},
   "outputs": [],
   "source": [
    "intervalos_confianza = [(resultado_boots.confidence_interval[0][i], resultado_boots.confidence_interval[1][i]) for i in range(len(resultado_boots.confidence_interval[0]))]\n",
    "\n",
    "# Asignamos cada intervalo a su respectiva estadística\n",
    "# intervalo_1, intervalo_2,intervalo_3, intervalo_4, intervalo_5, intervalo_6, intervalo_7, intervalo_8 = intervalos_confianza"
   ]
  },
  {
   "cell_type": "code",
   "execution_count": 211,
   "metadata": {},
   "outputs": [
    {
     "data": {
      "text/html": [
       "<div>\n",
       "<style scoped>\n",
       "    .dataframe tbody tr th:only-of-type {\n",
       "        vertical-align: middle;\n",
       "    }\n",
       "\n",
       "    .dataframe tbody tr th {\n",
       "        vertical-align: top;\n",
       "    }\n",
       "\n",
       "    .dataframe thead th {\n",
       "        text-align: right;\n",
       "    }\n",
       "</style>\n",
       "<table border=\"1\" class=\"dataframe\">\n",
       "  <thead>\n",
       "    <tr style=\"text-align: right;\">\n",
       "      <th></th>\n",
       "      <th>theta</th>\n",
       "      <th>theta total datos</th>\n",
       "      <th>Lower</th>\n",
       "      <th>Upper</th>\n",
       "      <th>En Intervalo</th>\n",
       "    </tr>\n",
       "  </thead>\n",
       "  <tbody>\n",
       "    <tr>\n",
       "      <th>0</th>\n",
       "      <td>theta_0</td>\n",
       "      <td>-1.925411</td>\n",
       "      <td>-1.975885</td>\n",
       "      <td>-1.536867</td>\n",
       "      <td>True</td>\n",
       "    </tr>\n",
       "    <tr>\n",
       "      <th>1</th>\n",
       "      <td>theta_1</td>\n",
       "      <td>0.005911</td>\n",
       "      <td>0.004224</td>\n",
       "      <td>0.006204</td>\n",
       "      <td>True</td>\n",
       "    </tr>\n",
       "    <tr>\n",
       "      <th>2</th>\n",
       "      <td>theta_2</td>\n",
       "      <td>0.006537</td>\n",
       "      <td>0.005054</td>\n",
       "      <td>0.008627</td>\n",
       "      <td>True</td>\n",
       "    </tr>\n",
       "    <tr>\n",
       "      <th>3</th>\n",
       "      <td>theta_3</td>\n",
       "      <td>0.024316</td>\n",
       "      <td>0.021584</td>\n",
       "      <td>0.035737</td>\n",
       "      <td>True</td>\n",
       "    </tr>\n",
       "  </tbody>\n",
       "</table>\n",
       "</div>"
      ],
      "text/plain": [
       "     theta  theta total datos     Lower     Upper  En Intervalo\n",
       "0  theta_0          -1.925411 -1.975885 -1.536867          True\n",
       "1  theta_1           0.005911  0.004224  0.006204          True\n",
       "2  theta_2           0.006537  0.005054  0.008627          True\n",
       "3  theta_3           0.024316  0.021584  0.035737          True"
      ]
     },
     "execution_count": 211,
     "metadata": {},
     "output_type": "execute_result"
    }
   ],
   "source": [
    "df_intervalos = pd.DataFrame(intervalos_confianza, columns=[\"Lower\", \"Upper\"])\n",
    "df_intervalos['theta'] = [f'theta_{i}' for i in range(len(intervalos_confianza))]\n",
    "\n",
    "df_intervalos['theta total datos'] = estadistica_interes(*tupla_arrays)\n",
    "\n",
    "def esta_en_intervalo(row):\n",
    "    return row['Lower'] <= row['theta total datos'] <= row['Upper']\n",
    "\n",
    "df_intervalos['En Intervalo'] = df_intervalos.apply(esta_en_intervalo, axis=1)\n",
    "\n",
    "df_intervalos = df_intervalos[['theta', 'theta total datos', 'Lower', 'Upper', 'En Intervalo']]\n",
    "\n",
    "df_intervalos"
   ]
  }
 ],
 "metadata": {
  "kernelspec": {
   "display_name": "Python 3",
   "language": "python",
   "name": "python3"
  },
  "language_info": {
   "codemirror_mode": {
    "name": "ipython",
    "version": 3
   },
   "file_extension": ".py",
   "mimetype": "text/x-python",
   "name": "python",
   "nbconvert_exporter": "python",
   "pygments_lexer": "ipython3",
   "version": "3.11.5"
  }
 },
 "nbformat": 4,
 "nbformat_minor": 2
}
